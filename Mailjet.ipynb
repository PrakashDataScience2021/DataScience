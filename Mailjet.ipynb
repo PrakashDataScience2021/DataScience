{
 "cells": [
  {
   "cell_type": "code",
   "execution_count": 6,
   "metadata": {},
   "outputs": [
    {
     "name": "stdout",
     "output_type": "stream",
     "text": [
      "200\n",
      "{'Messages': [{'Status': 'success', 'CustomID': 'AppGettingStartedTest', 'To': [{'Email': 'a.prakash@scrapq.com', 'MessageUUID': '84abb27e-0301-4d5b-97ed-637c41580331', 'MessageID': 1152921512711321913, 'MessageHref': 'https://api.mailjet.com/v3/REST/message/1152921512711321913'}], 'Cc': [], 'Bcc': []}]}\n"
     ]
    }
   ],
   "source": [
    "from mailjet_rest import Client\n",
    "import os\n",
    "api_key = 'e63b90ad97cf2d82d6e14ea36c722105'\n",
    "api_secret = 'b54bea703d6879089e6abc16386c3732'\n",
    "mailjet = Client(auth=(api_key, api_secret), version='v3.1')\n",
    "data = {\n",
    "  'Messages': [\n",
    "    {\n",
    "      \"From\": {\n",
    "        \"Email\": \"a.prakash@scrapq.com\",\n",
    "        \"Name\": \"Prakash\"\n",
    "      },\n",
    "      \"To\": [\n",
    "        {\n",
    "          \"Email\": \"a.prakash@scrapq.com\",\n",
    "          \"Name\": \"Prakash\"\n",
    "        }\n",
    "      ],\n",
    "      \"Subject\": \"Greetings from Mailjet.\",\n",
    "      \"TextPart\": \"My first Mailjet email\",\n",
    "      \"HTMLPart\": \"<h3>Dear passenger 1, welcome to <a href='https://www.mailjet.com/'>Mailjet</a>!</h3><br />May the delivery force be with you!\",\n",
    "      \"CustomID\": \"AppGettingStartedTest\"\n",
    "    }\n",
    "  ]\n",
    "}\n",
    "result = mailjet.send.create(data=data)\n",
    "print(result.status_code)\n",
    "print(result.json())"
   ]
  },
  {
   "cell_type": "code",
   "execution_count": null,
   "metadata": {},
   "outputs": [],
   "source": []
  },
  {
   "cell_type": "code",
   "execution_count": 5,
   "metadata": {},
   "outputs": [
    {
     "name": "stdout",
     "output_type": "stream",
     "text": [
      "Collecting mailjet_rest\n",
      "  Using cached mailjet_rest-1.3.4-py3-none-any.whl (7.5 kB)\n",
      "Requirement already satisfied: requests>=2.4.3 in c:\\users\\admin\\anaconda3\\lib\\site-packages (from mailjet_rest) (2.24.0)\n",
      "Requirement already satisfied: idna<3,>=2.5 in c:\\users\\admin\\anaconda3\\lib\\site-packages (from requests>=2.4.3->mailjet_rest) (2.10)\n",
      "Requirement already satisfied: certifi>=2017.4.17 in c:\\users\\admin\\anaconda3\\lib\\site-packages (from requests>=2.4.3->mailjet_rest) (2020.6.20)\n",
      "Requirement already satisfied: urllib3!=1.25.0,!=1.25.1,<1.26,>=1.21.1 in c:\\users\\admin\\anaconda3\\lib\\site-packages (from requests>=2.4.3->mailjet_rest) (1.25.9)\n",
      "Requirement already satisfied: chardet<4,>=3.0.2 in c:\\users\\admin\\anaconda3\\lib\\site-packages (from requests>=2.4.3->mailjet_rest) (3.0.4)\n",
      "Installing collected packages: mailjet-rest\n",
      "Successfully installed mailjet-rest-1.3.4\n",
      "Note: you may need to restart the kernel to use updated packages.\n"
     ]
    }
   ],
   "source": [
    "pip install mailjet_rest"
   ]
  },
  {
   "cell_type": "code",
   "execution_count": null,
   "metadata": {},
   "outputs": [],
   "source": []
  },
  {
   "cell_type": "code",
   "execution_count": null,
   "metadata": {},
   "outputs": [],
   "source": []
  },
  {
   "cell_type": "code",
   "execution_count": null,
   "metadata": {},
   "outputs": [],
   "source": []
  },
  {
   "cell_type": "code",
   "execution_count": null,
   "metadata": {},
   "outputs": [],
   "source": []
  },
  {
   "cell_type": "code",
   "execution_count": null,
   "metadata": {},
   "outputs": [],
   "source": []
  },
  {
   "cell_type": "code",
   "execution_count": null,
   "metadata": {},
   "outputs": [],
   "source": []
  }
 ],
 "metadata": {
  "kernelspec": {
   "display_name": "Python 3",
   "language": "python",
   "name": "python3"
  },
  "language_info": {
   "codemirror_mode": {
    "name": "ipython",
    "version": 3
   },
   "file_extension": ".py",
   "mimetype": "text/x-python",
   "name": "python",
   "nbconvert_exporter": "python",
   "pygments_lexer": "ipython3",
   "version": "3.8.3"
  }
 },
 "nbformat": 4,
 "nbformat_minor": 4
}
