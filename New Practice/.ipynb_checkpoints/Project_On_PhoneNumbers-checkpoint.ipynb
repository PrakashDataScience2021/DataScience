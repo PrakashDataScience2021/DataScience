{
 "cells": [
  {
   "cell_type": "code",
   "execution_count": 2,
   "metadata": {},
   "outputs": [
    {
     "name": "stdout",
     "output_type": "stream",
     "text": [
      "Collecting phonenumbers\n",
      "  Downloading phonenumbers-8.12.21-py2.py3-none-any.whl (2.6 MB)\n",
      "Installing collected packages: phonenumbers\n",
      "Successfully installed phonenumbers-8.12.21\n",
      "Note: you may need to restart the kernel to use updated packages.\n"
     ]
    }
   ],
   "source": [
    "pip install phonenumbers"
   ]
  },
  {
   "cell_type": "code",
   "execution_count": 6,
   "metadata": {},
   "outputs": [
    {
     "name": "stdout",
     "output_type": "stream",
     "text": [
      "Airtel\n",
      "India\n"
     ]
    }
   ],
   "source": [
    "# Program to find carrier and region\n",
    "# of a phone number\n",
    "import phonenumbers\n",
    "from phonenumbers import geocoder, carrier\n",
    "  \n",
    "# Parsing String to Phone number\n",
    "phoneNumber = phonenumbers.parse(\"+919949431144\")\n",
    "  \n",
    "# Getting carrier of a phone number\n",
    "Carrier = carrier.name_for_number(phoneNumber, 'en')\n",
    "  \n",
    "# Getting region information\n",
    "Region = geocoder.description_for_number(phoneNumber, 'en')\n",
    "  \n",
    "# Printing the carrier and region of a phone number\n",
    "print(Carrier)\n",
    "print(Region)"
   ]
  },
  {
   "cell_type": "code",
   "execution_count": null,
   "metadata": {},
   "outputs": [],
   "source": []
  },
  {
   "cell_type": "code",
   "execution_count": 6,
   "metadata": {},
   "outputs": [
    {
     "name": "stdout",
     "output_type": "stream",
     "text": [
      "Note: you may need to restart the kernel to use updated packages.\n"
     ]
    },
    {
     "name": "stderr",
     "output_type": "stream",
     "text": [
      "ERROR: Invalid requirement: '#Beautifusoup'\n"
     ]
    }
   ],
   "source": [
    "pip install beautifulsoup4 #Beautifusoup"
   ]
  },
  {
   "cell_type": "code",
   "execution_count": 10,
   "metadata": {},
   "outputs": [
    {
     "name": "stdout",
     "output_type": "stream",
     "text": [
      "Mobile Phone: 8686241151\n",
      "Telecoms Circle / State Andhra Pradesh\n",
      "Network : AIRCEL\n",
      "Service Type / Signal: GSM\n",
      "Connection Status:  LIVE - Active \n",
      "+91 8686241151 - SIM card distributed at   Hyderabad, Visakhapatnam, Vijayawada, Warangal, Guntur, Nellore\n",
      "Circle Capital : Hyderabad\n",
      "Main Language in the telecoms circle : Telugu\n",
      "Local time at phone location : 16/04/21 17:48:34 : Hours\n"
     ]
    }
   ],
   "source": [
    "# import libraries\n",
    "from bs4 import BeautifulSoup\n",
    "import mechanize\n",
    " \n",
    " \n",
    "mc = mechanize.Browser()\n",
    "mc.set_handle_robots(False)\n",
    " \n",
    "url = 'https://www.findandtrace.com/trace-mobile-number-location'\n",
    "mc.open(url)\n",
    " \n",
    "mc.select_form(name='trace')\n",
    "mc['mobilenumber'] = '8686241151' # Enter a mobile number\n",
    "res = mc.submit().read()\n",
    " \n",
    "soup = BeautifulSoup(res,'html.parser')\n",
    "tbl = soup.find_all('table',class_='shop_table')\n",
    "#print(tbl)\n",
    " \n",
    " \n",
    "data = tbl[0].find('tfoot')\n",
    "c=0\n",
    "for i in data:\n",
    "    c+=1\n",
    "    if c in (1,4,6,8):\n",
    "        continue\n",
    "    th = i.find('th')\n",
    "    td = i.find('td')\n",
    "    print(th.text,td.text)\n",
    " \n",
    " \n",
    "data = tbl[1].find('tfoot')\n",
    "c=0\n",
    "for i in data:\n",
    "    c+=1\n",
    "    if c in (2,20,22,26): \n",
    "        th = i.find('th')\n",
    "        td = i.find('td')\n",
    "        print(th.text,td.text)"
   ]
  },
  {
   "cell_type": "code",
   "execution_count": null,
   "metadata": {},
   "outputs": [],
   "source": []
  },
  {
   "cell_type": "code",
   "execution_count": null,
   "metadata": {},
   "outputs": [],
   "source": []
  },
  {
   "cell_type": "code",
   "execution_count": null,
   "metadata": {},
   "outputs": [],
   "source": []
  },
  {
   "cell_type": "code",
   "execution_count": null,
   "metadata": {},
   "outputs": [],
   "source": []
  },
  {
   "cell_type": "code",
   "execution_count": null,
   "metadata": {},
   "outputs": [],
   "source": []
  },
  {
   "cell_type": "code",
   "execution_count": null,
   "metadata": {},
   "outputs": [],
   "source": []
  },
  {
   "cell_type": "code",
   "execution_count": null,
   "metadata": {},
   "outputs": [],
   "source": []
  },
  {
   "cell_type": "code",
   "execution_count": null,
   "metadata": {},
   "outputs": [],
   "source": []
  },
  {
   "cell_type": "code",
   "execution_count": null,
   "metadata": {},
   "outputs": [],
   "source": []
  },
  {
   "cell_type": "code",
   "execution_count": null,
   "metadata": {},
   "outputs": [],
   "source": []
  },
  {
   "cell_type": "code",
   "execution_count": null,
   "metadata": {},
   "outputs": [],
   "source": []
  },
  {
   "cell_type": "code",
   "execution_count": null,
   "metadata": {},
   "outputs": [],
   "source": []
  }
 ],
 "metadata": {
  "kernelspec": {
   "display_name": "Python 3",
   "language": "python",
   "name": "python3"
  },
  "language_info": {
   "codemirror_mode": {
    "name": "ipython",
    "version": 3
   },
   "file_extension": ".py",
   "mimetype": "text/x-python",
   "name": "python",
   "nbconvert_exporter": "python",
   "pygments_lexer": "ipython3",
   "version": "3.8.3"
  }
 },
 "nbformat": 4,
 "nbformat_minor": 4
}
